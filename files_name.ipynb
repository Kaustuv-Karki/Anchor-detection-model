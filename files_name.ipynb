{
 "cells": [
  {
   "cell_type": "code",
   "execution_count": 1,
   "metadata": {},
   "outputs": [],
   "source": [
    "import os"
   ]
  },
  {
   "cell_type": "code",
   "execution_count": 2,
   "metadata": {},
   "outputs": [],
   "source": [
    "folder_path = \"yolo_anchor\""
   ]
  },
  {
   "cell_type": "code",
   "execution_count": 3,
   "metadata": {},
   "outputs": [],
   "source": [
    "files = os.listdir(folder_path)"
   ]
  },
  {
   "cell_type": "code",
   "execution_count": 4,
   "metadata": {},
   "outputs": [
    {
     "data": {
      "text/plain": [
       "185"
      ]
     },
     "execution_count": 4,
     "metadata": {},
     "output_type": "execute_result"
    }
   ],
   "source": [
    "len(files)"
   ]
  },
  {
   "cell_type": "code",
   "execution_count": 5,
   "metadata": {},
   "outputs": [
    {
     "data": {
      "text/plain": [
       "['1.png',\n",
       " '10.png',\n",
       " '100.png',\n",
       " '11.png',\n",
       " '12.png',\n",
       " '13.png',\n",
       " '14.png',\n",
       " '15.png',\n",
       " '16.png',\n",
       " '17.png',\n",
       " '18.png',\n",
       " '19.png',\n",
       " '2.png',\n",
       " '20.png',\n",
       " '21.png',\n",
       " '22.png',\n",
       " '23.png',\n",
       " '24.png',\n",
       " '25.png',\n",
       " '26.png',\n",
       " '27.png',\n",
       " '28.png',\n",
       " '29.png',\n",
       " '3.png',\n",
       " '30.png',\n",
       " '31.png',\n",
       " '32.png',\n",
       " '33.png',\n",
       " '34.png',\n",
       " '35.png',\n",
       " '36.png',\n",
       " '37.png',\n",
       " '38.png',\n",
       " '4.png',\n",
       " '40.png',\n",
       " '41.png',\n",
       " '42.png',\n",
       " '43.png',\n",
       " '44.png',\n",
       " '45.png',\n",
       " '46.png',\n",
       " '47.png',\n",
       " '48.png',\n",
       " '49.png',\n",
       " '5.png',\n",
       " '50.png',\n",
       " '51.png',\n",
       " '52.png',\n",
       " '53.png',\n",
       " '54.png',\n",
       " '55.png',\n",
       " '56.png',\n",
       " '57.png',\n",
       " '58.png',\n",
       " '59.png',\n",
       " '6.png',\n",
       " '60.png',\n",
       " '61.png',\n",
       " '62.png',\n",
       " '63.png',\n",
       " '64.png',\n",
       " '65.png',\n",
       " '66.png',\n",
       " '67.png',\n",
       " '68.png',\n",
       " '69.png',\n",
       " '7.png',\n",
       " '70.png',\n",
       " '71.png',\n",
       " '72.png',\n",
       " '73.png',\n",
       " '74.png',\n",
       " '75.png',\n",
       " '76.png',\n",
       " '77.png',\n",
       " '78.png',\n",
       " '79.png',\n",
       " '8.png',\n",
       " '80.png',\n",
       " '81.png',\n",
       " '82.png',\n",
       " '83.png',\n",
       " '84.png',\n",
       " '85.png',\n",
       " '86.png',\n",
       " '87.png',\n",
       " '88.png',\n",
       " '89.png',\n",
       " '9.png',\n",
       " '90.png',\n",
       " '91.png',\n",
       " '92.png',\n",
       " '93.png',\n",
       " '94.png',\n",
       " '95.png',\n",
       " '96.png',\n",
       " '97.png',\n",
       " '98.png',\n",
       " '99.png',\n",
       " 'gorilla.png',\n",
       " 'k1.png',\n",
       " 'k10.png',\n",
       " 'k11.png',\n",
       " 'k12.png',\n",
       " 'k13.png',\n",
       " 'k14.png',\n",
       " 'k15.png',\n",
       " 'k16.png',\n",
       " 'k17.png',\n",
       " 'k18.png',\n",
       " 'k19.png',\n",
       " 'k2.png',\n",
       " 'k20.png',\n",
       " 'k21.png',\n",
       " 'k22.png',\n",
       " 'k23.png',\n",
       " 'k24.png',\n",
       " 'k3.png',\n",
       " 'k4.png',\n",
       " 'k5.png',\n",
       " 'k6.png',\n",
       " 'k7.png',\n",
       " 'k8.png',\n",
       " 'k9.png',\n",
       " 'kantipur1.png',\n",
       " 'kantipur10.png',\n",
       " 'kantipur11.png',\n",
       " 'kantipur12.png',\n",
       " 'kantipur13.png',\n",
       " 'kantipur14.png',\n",
       " 'kantipur15.png',\n",
       " 'kantipur16.png',\n",
       " 'kantipur17.png',\n",
       " 'kantipur18.png',\n",
       " 'kantipur19.png',\n",
       " 'kantipur2.png',\n",
       " 'kantipur20.png',\n",
       " 'kantipur21.png',\n",
       " 'kantipur22.png',\n",
       " 'kantipur23.png',\n",
       " 'kantipur24.png',\n",
       " 'kantipur25.png',\n",
       " 'kantipur26.png',\n",
       " 'kantipur27.png',\n",
       " 'kantipur28.png',\n",
       " 'kantipur29.png',\n",
       " 'kantipur3.png',\n",
       " 'kantipur30.png',\n",
       " 'kantipur31.png',\n",
       " 'kantipur32.png',\n",
       " 'kantipur33.png',\n",
       " 'kantipur34.png',\n",
       " 'kantipur35.png',\n",
       " 'kantipur36.png',\n",
       " 'kantipur37.png',\n",
       " 'kantipur38.png',\n",
       " 'kantipur39.png',\n",
       " 'kantipur4.png',\n",
       " 'kantipur40.png',\n",
       " 'kantipur41.png',\n",
       " 'kantipur42.png',\n",
       " 'kantipur43.png',\n",
       " 'kantipur44.png',\n",
       " 'kantipur45.png',\n",
       " 'kantipur46.png',\n",
       " 'kantipur47.png',\n",
       " 'kantipur48.png',\n",
       " 'kantipur49.png',\n",
       " 'kantipur5.png',\n",
       " 'kantipur50.png',\n",
       " 'kantipur51.png',\n",
       " 'kantipur52.png',\n",
       " 'kantipur53.png',\n",
       " 'kantipur54.png',\n",
       " 'kantipur55.png',\n",
       " 'kantipur56.png',\n",
       " 'kantipur57.png',\n",
       " 'kantipur58.png',\n",
       " 'kantipur59.png',\n",
       " 'kantipur6.png',\n",
       " 'kantipur60.png',\n",
       " 'kantipur7.png',\n",
       " 'kantipur8.png',\n",
       " 'kantipur9.png',\n",
       " 'whyAreYouGay.png']"
      ]
     },
     "execution_count": 5,
     "metadata": {},
     "output_type": "execute_result"
    }
   ],
   "source": [
    "files"
   ]
  },
  {
   "cell_type": "code",
   "execution_count": 6,
   "metadata": {},
   "outputs": [],
   "source": [
    "image_files = [file for file in files if file.endswith((\".jpg\", \".jpeg\", \".png\"))]"
   ]
  },
  {
   "cell_type": "code",
   "execution_count": 7,
   "metadata": {},
   "outputs": [
    {
     "data": {
      "text/plain": [
       "185"
      ]
     },
     "execution_count": 7,
     "metadata": {},
     "output_type": "execute_result"
    }
   ],
   "source": [
    "len(image_files)"
   ]
  },
  {
   "cell_type": "code",
   "execution_count": 8,
   "metadata": {},
   "outputs": [],
   "source": [
    "for i, file_name in enumerate(image_files, 238):\n",
    "    file_path = os.path.join(folder_path, file_name)\n",
    "    new_file_name = f\"{i}.png\"  # Change the extension as per your requirement\n",
    "    new_file_path = os.path.join(folder_path, new_file_name)\n",
    "    os.rename(file_path, new_file_path)"
   ]
  },
  {
   "cell_type": "code",
   "execution_count": null,
   "metadata": {},
   "outputs": [],
   "source": []
  }
 ],
 "metadata": {
  "kernelspec": {
   "display_name": "Python 3",
   "language": "python",
   "name": "python3"
  },
  "language_info": {
   "codemirror_mode": {
    "name": "ipython",
    "version": 3
   },
   "file_extension": ".py",
   "mimetype": "text/x-python",
   "name": "python",
   "nbconvert_exporter": "python",
   "pygments_lexer": "ipython3",
   "version": "3.10.9"
  },
  "orig_nbformat": 4
 },
 "nbformat": 4,
 "nbformat_minor": 2
}
