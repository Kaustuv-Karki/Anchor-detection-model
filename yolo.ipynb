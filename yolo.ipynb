{
 "cells": [
  {
   "cell_type": "code",
   "execution_count": 1,
   "metadata": {},
   "outputs": [],
   "source": [
    "import tensorflow as tf"
   ]
  },
  {
   "cell_type": "code",
   "execution_count": null,
   "metadata": {},
   "outputs": [],
   "source": [
    "# !pip install ultralytics -q"
   ]
  },
  {
   "cell_type": "code",
   "execution_count": 5,
   "metadata": {},
   "outputs": [
    {
     "name": "stderr",
     "output_type": "stream",
     "text": [
      "\n",
      "                   from  n    params  module                                       arguments                     \n",
      "  0                  -1  1       928  ultralytics.nn.modules.conv.Conv             [3, 32, 3, 2]                 \n",
      "  1                  -1  1     18560  ultralytics.nn.modules.conv.Conv             [32, 64, 3, 2]                \n",
      "  2                  -1  1     29056  ultralytics.nn.modules.block.C2f             [64, 64, 1, True]             \n",
      "  3                  -1  1     73984  ultralytics.nn.modules.conv.Conv             [64, 128, 3, 2]               \n",
      "  4                  -1  2    197632  ultralytics.nn.modules.block.C2f             [128, 128, 2, True]           \n",
      "  5                  -1  1    295424  ultralytics.nn.modules.conv.Conv             [128, 256, 3, 2]              \n",
      "  6                  -1  2    788480  ultralytics.nn.modules.block.C2f             [256, 256, 2, True]           \n",
      "  7                  -1  1   1180672  ultralytics.nn.modules.conv.Conv             [256, 512, 3, 2]              \n"
     ]
    },
    {
     "name": "stderr",
     "output_type": "stream",
     "text": [
      "  8                  -1  1   1838080  ultralytics.nn.modules.block.C2f             [512, 512, 1, True]           \n",
      "  9                  -1  1    656896  ultralytics.nn.modules.block.SPPF            [512, 512, 5]                 \n",
      " 10                  -1  1         0  torch.nn.modules.upsampling.Upsample         [None, 2, 'nearest']          \n",
      " 11             [-1, 6]  1         0  ultralytics.nn.modules.conv.Concat           [1]                           \n",
      " 12                  -1  1    591360  ultralytics.nn.modules.block.C2f             [768, 256, 1]                 \n",
      " 13                  -1  1         0  torch.nn.modules.upsampling.Upsample         [None, 2, 'nearest']          \n",
      " 14             [-1, 4]  1         0  ultralytics.nn.modules.conv.Concat           [1]                           \n",
      " 15                  -1  1    148224  ultralytics.nn.modules.block.C2f             [384, 128, 1]                 \n",
      " 16                  -1  1    147712  ultralytics.nn.modules.conv.Conv             [128, 128, 3, 2]              \n",
      " 17            [-1, 12]  1         0  ultralytics.nn.modules.conv.Concat           [1]                           \n",
      " 18                  -1  1    493056  ultralytics.nn.modules.block.C2f             [384, 256, 1]                 \n",
      " 19                  -1  1    590336  ultralytics.nn.modules.conv.Conv             [256, 256, 3, 2]              \n",
      " 20             [-1, 9]  1         0  ultralytics.nn.modules.conv.Concat           [1]                           \n",
      " 21                  -1  1   1969152  ultralytics.nn.modules.block.C2f             [768, 512, 1]                 \n",
      " 22        [15, 18, 21]  1   2147008  ultralytics.nn.modules.head.Detect           [80, [128, 256, 512]]         \n",
      "YOLOv8s summary: 225 layers, 11166560 parameters, 11166544 gradients\n",
      "\n",
      "Ultralytics YOLOv8.0.131  Python-3.10.11 torch-2.0.1+cpu CPU\n",
      "\u001b[34m\u001b[1myolo\\engine\\trainer: \u001b[0mtask=detect, mode=train, model=yolov8s.yaml, data=config.yaml, epochs=1, patience=50, batch=16, imgsz=640, save=True, save_period=-1, cache=False, device=None, workers=8, project=None, name=None, exist_ok=False, pretrained=True, optimizer=auto, verbose=True, seed=0, deterministic=True, single_cls=False, rect=False, cos_lr=False, close_mosaic=10, resume=False, amp=True, fraction=1.0, profile=False, overlap_mask=True, mask_ratio=4, dropout=0.0, val=True, split=val, save_json=False, save_hybrid=False, conf=None, iou=0.7, max_det=300, half=False, dnn=False, plots=True, source=None, show=False, save_txt=False, save_conf=False, save_crop=False, show_labels=True, show_conf=True, vid_stride=1, line_width=None, visualize=False, augment=False, agnostic_nms=False, classes=None, retina_masks=False, boxes=True, format=torchscript, keras=False, optimize=False, int8=False, dynamic=False, simplify=False, opset=None, workspace=4, nms=False, lr0=0.01, lrf=0.01, momentum=0.937, weight_decay=0.0005, warmup_epochs=3.0, warmup_momentum=0.8, warmup_bias_lr=0.1, box=7.5, cls=0.5, dfl=1.5, pose=12.0, kobj=1.0, label_smoothing=0.0, nbs=64, hsv_h=0.015, hsv_s=0.7, hsv_v=0.4, degrees=0.0, translate=0.1, scale=0.5, shear=0.0, perspective=0.0, flipud=0.0, fliplr=0.5, mosaic=1.0, mixup=0.0, copy_paste=0.0, cfg=None, v5loader=False, tracker=botsort.yaml, save_dir=runs\\detect\\train2\n",
      "Downloading https:\\ultralytics.com\\assets\\Arial.ttf to C:\\Users\\user\\AppData\\Roaming\\Ultralytics\\Arial.ttf...\n",
      "100%|██████████| 755k/755k [00:00<00:00, 2.32MB/s]\n",
      "Overriding model.yaml nc=80 with nc=8\n",
      "\n",
      "                   from  n    params  module                                       arguments                     \n",
      "  0                  -1  1       928  ultralytics.nn.modules.conv.Conv             [3, 32, 3, 2]                 \n",
      "  1                  -1  1     18560  ultralytics.nn.modules.conv.Conv             [32, 64, 3, 2]                \n",
      "  2                  -1  1     29056  ultralytics.nn.modules.block.C2f             [64, 64, 1, True]             \n",
      "  3                  -1  1     73984  ultralytics.nn.modules.conv.Conv             [64, 128, 3, 2]               \n",
      "  4                  -1  2    197632  ultralytics.nn.modules.block.C2f             [128, 128, 2, True]           \n",
      "  5                  -1  1    295424  ultralytics.nn.modules.conv.Conv             [128, 256, 3, 2]              \n",
      "  6                  -1  2    788480  ultralytics.nn.modules.block.C2f             [256, 256, 2, True]           \n",
      "  7                  -1  1   1180672  ultralytics.nn.modules.conv.Conv             [256, 512, 3, 2]              \n",
      "  8                  -1  1   1838080  ultralytics.nn.modules.block.C2f             [512, 512, 1, True]           \n",
      "  9                  -1  1    656896  ultralytics.nn.modules.block.SPPF            [512, 512, 5]                 \n",
      " 10                  -1  1         0  torch.nn.modules.upsampling.Upsample         [None, 2, 'nearest']          \n",
      " 11             [-1, 6]  1         0  ultralytics.nn.modules.conv.Concat           [1]                           \n",
      " 12                  -1  1    591360  ultralytics.nn.modules.block.C2f             [768, 256, 1]                 \n",
      " 13                  -1  1         0  torch.nn.modules.upsampling.Upsample         [None, 2, 'nearest']          \n",
      " 14             [-1, 4]  1         0  ultralytics.nn.modules.conv.Concat           [1]                           \n",
      " 15                  -1  1    148224  ultralytics.nn.modules.block.C2f             [384, 128, 1]                 \n",
      " 16                  -1  1    147712  ultralytics.nn.modules.conv.Conv             [128, 128, 3, 2]              \n",
      " 17            [-1, 12]  1         0  ultralytics.nn.modules.conv.Concat           [1]                           \n",
      " 18                  -1  1    493056  ultralytics.nn.modules.block.C2f             [384, 256, 1]                 \n",
      " 19                  -1  1    590336  ultralytics.nn.modules.conv.Conv             [256, 256, 3, 2]              \n",
      " 20             [-1, 9]  1         0  ultralytics.nn.modules.conv.Concat           [1]                           \n",
      " 21                  -1  1   1969152  ultralytics.nn.modules.block.C2f             [768, 512, 1]                 \n",
      " 22        [15, 18, 21]  1   2119144  ultralytics.nn.modules.head.Detect           [8, [128, 256, 512]]          \n",
      "YOLOv8s summary: 225 layers, 11138696 parameters, 11138680 gradients\n",
      "\n",
      "\u001b[34m\u001b[1mTensorBoard: \u001b[0mStart with 'tensorboard --logdir runs\\detect\\train2', view at http://localhost:6006/\n",
      "\u001b[34m\u001b[1mtrain: \u001b[0mScanning D:\\AI-Anchor\\Anchor-detection-model\\labels\\train... 237 images, 0 backgrounds, 0 corrupt: 100%|██████████| 237/237 [00:02<00:00, 116.18it/s]\n",
      "\u001b[34m\u001b[1mtrain: \u001b[0mNew cache created: D:\\AI-Anchor\\Anchor-detection-model\\labels\\train.cache\n",
      "\u001b[34m\u001b[1mval: \u001b[0mScanning D:\\AI-Anchor\\Anchor-detection-model\\labels\\train.cache... 237 images, 0 backgrounds, 0 corrupt: 100%|██████████| 237/237 [00:00<?, ?it/s]\n",
      "Plotting labels to runs\\detect\\train2\\labels.jpg... \n",
      "\u001b[34m\u001b[1moptimizer:\u001b[0m AdamW(lr=0.000833, momentum=0.9) with parameter groups 57 weight(decay=0.0), 64 weight(decay=0.0005), 63 bias(decay=0.0)\n",
      "Image sizes 640 train, 640 val\n",
      "Using 0 dataloader workers\n",
      "Logging results to \u001b[1mruns\\detect\\train2\u001b[0m\n",
      "Starting training for 1 epochs...\n",
      "\n",
      "      Epoch    GPU_mem   box_loss   cls_loss   dfl_loss  Instances       Size\n"
     ]
    },
    {
     "name": "stdout",
     "output_type": "stream",
     "text": [
      "'str' object has no attribute 'values'\n"
     ]
    },
    {
     "name": "stderr",
     "output_type": "stream",
     "text": [
      "        1/1         0G      2.962      4.499      4.235         33        640: 100%|██████████| 15/15 [04:31<00:00, 18.10s/it]\n",
      "                 Class     Images  Instances      Box(P          R      mAP50  mAP50-95):  12%|█▎        | 1/8 [00:10<01:12, 10.32s/it]Exception in thread Thread-24 (plot_images):\n",
      "Traceback (most recent call last):\n",
      "  File \"c:\\Users\\user\\anaconda3\\envs\\mlenv-310\\lib\\threading.py\", line 1016, in _bootstrap_inner\n",
      "Exception in thread Thread-23 (plot_images):\n",
      "Traceback (most recent call last):\n",
      "  File \"c:\\Users\\user\\anaconda3\\envs\\mlenv-310\\lib\\threading.py\", line 1016, in _bootstrap_inner\n",
      "    self.run()\n",
      "  File \"c:\\Users\\user\\anaconda3\\envs\\mlenv-310\\lib\\threading.py\", line 953, in run\n",
      "    self.run()\n",
      "  File \"c:\\Users\\user\\anaconda3\\envs\\mlenv-310\\lib\\threading.py\", line 953, in run\n",
      "    self._target(*self._args, **self._kwargs)\n",
      "  File \"c:\\Users\\user\\anaconda3\\envs\\mlenv-310\\lib\\site-packages\\ultralytics\\yolo\\utils\\plotting.py\", line 375, in plot_images\n",
      "    self._target(*self._args, **self._kwargs)\n",
      "  File \"c:\\Users\\user\\anaconda3\\envs\\mlenv-310\\lib\\site-packages\\ultralytics\\yolo\\utils\\plotting.py\", line 375, in plot_images\n",
      "    c = names.get(c, c) if names else c\n",
      "AttributeError: 'str' object has no attribute 'get'\n",
      "    c = names.get(c, c) if names else c\n",
      "AttributeError: 'str' object has no attribute 'get'\n",
      "                 Class     Images  Instances      Box(P          R      mAP50  mAP50-95):  25%|██▌       | 2/8 [00:20<01:01, 10.22s/it]Exception in thread Thread-26 (plot_images):\n",
      "Traceback (most recent call last):\n",
      "  File \"c:\\Users\\user\\anaconda3\\envs\\mlenv-310\\lib\\threading.py\", line 1016, in _bootstrap_inner\n",
      "    self.run()\n",
      "  File \"c:\\Users\\user\\anaconda3\\envs\\mlenv-310\\lib\\threading.py\", line 953, in run\n",
      "    self._target(*self._args, **self._kwargs)\n",
      "  File \"c:\\Users\\user\\anaconda3\\envs\\mlenv-310\\lib\\site-packages\\ultralytics\\yolo\\utils\\plotting.py\", line 375, in plot_images\n",
      "    c = names.get(c, c) if names else c\n",
      "AttributeError: 'str' object has no attribute 'get'\n",
      "Exception in thread Thread-25 (plot_images):\n",
      "Traceback (most recent call last):\n",
      "  File \"c:\\Users\\user\\anaconda3\\envs\\mlenv-310\\lib\\threading.py\", line 1016, in _bootstrap_inner\n",
      "    self.run()\n",
      "  File \"c:\\Users\\user\\anaconda3\\envs\\mlenv-310\\lib\\threading.py\", line 953, in run\n",
      "    self._target(*self._args, **self._kwargs)\n",
      "  File \"c:\\Users\\user\\anaconda3\\envs\\mlenv-310\\lib\\site-packages\\ultralytics\\yolo\\utils\\plotting.py\", line 375, in plot_images\n",
      "    c = names.get(c, c) if names else c\n",
      "AttributeError: 'str' object has no attribute 'get'\n",
      "                 Class     Images  Instances      Box(P          R      mAP50  mAP50-95):  38%|███▊      | 3/8 [00:30<00:51, 10.23s/it]Exception in thread Thread-28 (plot_images):\n",
      "Traceback (most recent call last):\n",
      "  File \"c:\\Users\\user\\anaconda3\\envs\\mlenv-310\\lib\\threading.py\", line 1016, in _bootstrap_inner\n",
      "    self.run()\n",
      "  File \"c:\\Users\\user\\anaconda3\\envs\\mlenv-310\\lib\\threading.py\", line 953, in run\n",
      "    self._target(*self._args, **self._kwargs)\n",
      "  File \"c:\\Users\\user\\anaconda3\\envs\\mlenv-310\\lib\\site-packages\\ultralytics\\yolo\\utils\\plotting.py\", line 375, in plot_images\n",
      "    c = names.get(c, c) if names else c\n",
      "AttributeError: 'str' object has no attribute 'get'\n",
      "Exception in thread Thread-27 (plot_images):\n",
      "Traceback (most recent call last):\n",
      "  File \"c:\\Users\\user\\anaconda3\\envs\\mlenv-310\\lib\\threading.py\", line 1016, in _bootstrap_inner\n",
      "    self.run()\n",
      "  File \"c:\\Users\\user\\anaconda3\\envs\\mlenv-310\\lib\\threading.py\", line 953, in run\n",
      "    self._target(*self._args, **self._kwargs)\n",
      "  File \"c:\\Users\\user\\anaconda3\\envs\\mlenv-310\\lib\\site-packages\\ultralytics\\yolo\\utils\\plotting.py\", line 375, in plot_images\n",
      "    c = names.get(c, c) if names else c\n",
      "AttributeError: 'str' object has no attribute 'get'\n",
      "                 Class     Images  Instances      Box(P          R      mAP50  mAP50-95): 100%|██████████| 8/8 [01:18<00:00,  9.87s/it]\n"
     ]
    },
    {
     "ename": "AttributeError",
     "evalue": "'str' object has no attribute 'items'",
     "output_type": "error",
     "traceback": [
      "\u001b[1;31m---------------------------------------------------------------------------\u001b[0m",
      "\u001b[1;31mAttributeError\u001b[0m                            Traceback (most recent call last)",
      "\u001b[1;32md:\\AI-Anchor\\Anchor-detection-model\\yolo.ipynb Cell 3\u001b[0m in \u001b[0;36m<cell line: 8>\u001b[1;34m()\u001b[0m\n\u001b[0;32m      <a href='vscode-notebook-cell:/d%3A/AI-Anchor/Anchor-detection-model/yolo.ipynb#W2sZmlsZQ%3D%3D?line=3'>4</a>\u001b[0m model \u001b[39m=\u001b[39m YOLO(\u001b[39m'\u001b[39m\u001b[39myolov8s.yaml\u001b[39m\u001b[39m'\u001b[39m)  \u001b[39m# build a new model from YAML\u001b[39;00m\n\u001b[0;32m      <a href='vscode-notebook-cell:/d%3A/AI-Anchor/Anchor-detection-model/yolo.ipynb#W2sZmlsZQ%3D%3D?line=6'>7</a>\u001b[0m \u001b[39m# Train the model\u001b[39;00m\n\u001b[1;32m----> <a href='vscode-notebook-cell:/d%3A/AI-Anchor/Anchor-detection-model/yolo.ipynb#W2sZmlsZQ%3D%3D?line=7'>8</a>\u001b[0m model\u001b[39m.\u001b[39;49mtrain(data\u001b[39m=\u001b[39;49m\u001b[39m'\u001b[39;49m\u001b[39mconfig.yaml\u001b[39;49m\u001b[39m'\u001b[39;49m, epochs\u001b[39m=\u001b[39;49m\u001b[39m1\u001b[39;49m)\n",
      "File \u001b[1;32mc:\\Users\\user\\anaconda3\\envs\\mlenv-310\\lib\\site-packages\\ultralytics\\yolo\\engine\\model.py:373\u001b[0m, in \u001b[0;36mYOLO.train\u001b[1;34m(self, **kwargs)\u001b[0m\n\u001b[0;32m    371\u001b[0m     \u001b[39mself\u001b[39m\u001b[39m.\u001b[39mmodel \u001b[39m=\u001b[39m \u001b[39mself\u001b[39m\u001b[39m.\u001b[39mtrainer\u001b[39m.\u001b[39mmodel\n\u001b[0;32m    372\u001b[0m \u001b[39mself\u001b[39m\u001b[39m.\u001b[39mtrainer\u001b[39m.\u001b[39mhub_session \u001b[39m=\u001b[39m \u001b[39mself\u001b[39m\u001b[39m.\u001b[39msession  \u001b[39m# attach optional HUB session\u001b[39;00m\n\u001b[1;32m--> 373\u001b[0m \u001b[39mself\u001b[39;49m\u001b[39m.\u001b[39;49mtrainer\u001b[39m.\u001b[39;49mtrain()\n\u001b[0;32m    374\u001b[0m \u001b[39m# Update model and cfg after training\u001b[39;00m\n\u001b[0;32m    375\u001b[0m \u001b[39mif\u001b[39;00m RANK \u001b[39min\u001b[39;00m (\u001b[39m-\u001b[39m\u001b[39m1\u001b[39m, \u001b[39m0\u001b[39m):\n",
      "File \u001b[1;32mc:\\Users\\user\\anaconda3\\envs\\mlenv-310\\lib\\site-packages\\ultralytics\\yolo\\engine\\trainer.py:192\u001b[0m, in \u001b[0;36mBaseTrainer.train\u001b[1;34m(self)\u001b[0m\n\u001b[0;32m    190\u001b[0m         ddp_cleanup(\u001b[39mself\u001b[39m, \u001b[39mstr\u001b[39m(file))\n\u001b[0;32m    191\u001b[0m \u001b[39melse\u001b[39;00m:\n\u001b[1;32m--> 192\u001b[0m     \u001b[39mself\u001b[39;49m\u001b[39m.\u001b[39;49m_do_train(world_size)\n",
      "File \u001b[1;32mc:\\Users\\user\\anaconda3\\envs\\mlenv-310\\lib\\site-packages\\ultralytics\\yolo\\engine\\trainer.py:372\u001b[0m, in \u001b[0;36mBaseTrainer._do_train\u001b[1;34m(self, world_size)\u001b[0m\n\u001b[0;32m    369\u001b[0m final_epoch \u001b[39m=\u001b[39m (epoch \u001b[39m+\u001b[39m \u001b[39m1\u001b[39m \u001b[39m==\u001b[39m \u001b[39mself\u001b[39m\u001b[39m.\u001b[39mepochs) \u001b[39mor\u001b[39;00m \u001b[39mself\u001b[39m\u001b[39m.\u001b[39mstopper\u001b[39m.\u001b[39mpossible_stop\n\u001b[0;32m    371\u001b[0m \u001b[39mif\u001b[39;00m \u001b[39mself\u001b[39m\u001b[39m.\u001b[39margs\u001b[39m.\u001b[39mval \u001b[39mor\u001b[39;00m final_epoch:\n\u001b[1;32m--> 372\u001b[0m     \u001b[39mself\u001b[39m\u001b[39m.\u001b[39mmetrics, \u001b[39mself\u001b[39m\u001b[39m.\u001b[39mfitness \u001b[39m=\u001b[39m \u001b[39mself\u001b[39;49m\u001b[39m.\u001b[39;49mvalidate()\n\u001b[0;32m    373\u001b[0m \u001b[39mself\u001b[39m\u001b[39m.\u001b[39msave_metrics(metrics\u001b[39m=\u001b[39m{\u001b[39m*\u001b[39m\u001b[39m*\u001b[39m\u001b[39mself\u001b[39m\u001b[39m.\u001b[39mlabel_loss_items(\u001b[39mself\u001b[39m\u001b[39m.\u001b[39mtloss), \u001b[39m*\u001b[39m\u001b[39m*\u001b[39m\u001b[39mself\u001b[39m\u001b[39m.\u001b[39mmetrics, \u001b[39m*\u001b[39m\u001b[39m*\u001b[39m\u001b[39mself\u001b[39m\u001b[39m.\u001b[39mlr})\n\u001b[0;32m    374\u001b[0m \u001b[39mself\u001b[39m\u001b[39m.\u001b[39mstop \u001b[39m=\u001b[39m \u001b[39mself\u001b[39m\u001b[39m.\u001b[39mstopper(epoch \u001b[39m+\u001b[39m \u001b[39m1\u001b[39m, \u001b[39mself\u001b[39m\u001b[39m.\u001b[39mfitness)\n",
      "File \u001b[1;32mc:\\Users\\user\\anaconda3\\envs\\mlenv-310\\lib\\site-packages\\ultralytics\\yolo\\engine\\trainer.py:478\u001b[0m, in \u001b[0;36mBaseTrainer.validate\u001b[1;34m(self)\u001b[0m\n\u001b[0;32m    474\u001b[0m \u001b[39mdef\u001b[39;00m \u001b[39mvalidate\u001b[39m(\u001b[39mself\u001b[39m):\n\u001b[0;32m    475\u001b[0m     \u001b[39m\"\"\"\u001b[39;00m\n\u001b[0;32m    476\u001b[0m \u001b[39m    Runs validation on test set using self.validator. The returned dict is expected to contain \"fitness\" key.\u001b[39;00m\n\u001b[0;32m    477\u001b[0m \u001b[39m    \"\"\"\u001b[39;00m\n\u001b[1;32m--> 478\u001b[0m     metrics \u001b[39m=\u001b[39m \u001b[39mself\u001b[39;49m\u001b[39m.\u001b[39;49mvalidator(\u001b[39mself\u001b[39;49m)\n\u001b[0;32m    479\u001b[0m     fitness \u001b[39m=\u001b[39m metrics\u001b[39m.\u001b[39mpop(\u001b[39m'\u001b[39m\u001b[39mfitness\u001b[39m\u001b[39m'\u001b[39m, \u001b[39m-\u001b[39m\u001b[39mself\u001b[39m\u001b[39m.\u001b[39mloss\u001b[39m.\u001b[39mdetach()\u001b[39m.\u001b[39mcpu()\u001b[39m.\u001b[39mnumpy())  \u001b[39m# use loss as fitness measure if not found\u001b[39;00m\n\u001b[0;32m    480\u001b[0m     \u001b[39mif\u001b[39;00m \u001b[39mnot\u001b[39;00m \u001b[39mself\u001b[39m\u001b[39m.\u001b[39mbest_fitness \u001b[39mor\u001b[39;00m \u001b[39mself\u001b[39m\u001b[39m.\u001b[39mbest_fitness \u001b[39m<\u001b[39m fitness:\n",
      "File \u001b[1;32mc:\\Users\\user\\anaconda3\\envs\\mlenv-310\\lib\\site-packages\\torch\\utils\\_contextlib.py:115\u001b[0m, in \u001b[0;36mcontext_decorator.<locals>.decorate_context\u001b[1;34m(*args, **kwargs)\u001b[0m\n\u001b[0;32m    112\u001b[0m \u001b[39m@functools\u001b[39m\u001b[39m.\u001b[39mwraps(func)\n\u001b[0;32m    113\u001b[0m \u001b[39mdef\u001b[39;00m \u001b[39mdecorate_context\u001b[39m(\u001b[39m*\u001b[39margs, \u001b[39m*\u001b[39m\u001b[39m*\u001b[39mkwargs):\n\u001b[0;32m    114\u001b[0m     \u001b[39mwith\u001b[39;00m ctx_factory():\n\u001b[1;32m--> 115\u001b[0m         \u001b[39mreturn\u001b[39;00m func(\u001b[39m*\u001b[39margs, \u001b[39m*\u001b[39m\u001b[39m*\u001b[39mkwargs)\n",
      "File \u001b[1;32mc:\\Users\\user\\anaconda3\\envs\\mlenv-310\\lib\\site-packages\\ultralytics\\yolo\\engine\\validator.py:177\u001b[0m, in \u001b[0;36mBaseValidator.__call__\u001b[1;34m(self, trainer, model)\u001b[0m\n\u001b[0;32m    174\u001b[0m         \u001b[39mself\u001b[39m\u001b[39m.\u001b[39mplot_predictions(batch, preds, batch_i)\n\u001b[0;32m    176\u001b[0m     \u001b[39mself\u001b[39m\u001b[39m.\u001b[39mrun_callbacks(\u001b[39m'\u001b[39m\u001b[39mon_val_batch_end\u001b[39m\u001b[39m'\u001b[39m)\n\u001b[1;32m--> 177\u001b[0m stats \u001b[39m=\u001b[39m \u001b[39mself\u001b[39;49m\u001b[39m.\u001b[39;49mget_stats()\n\u001b[0;32m    178\u001b[0m \u001b[39mself\u001b[39m\u001b[39m.\u001b[39mcheck_stats(stats)\n\u001b[0;32m    179\u001b[0m \u001b[39mself\u001b[39m\u001b[39m.\u001b[39mspeed \u001b[39m=\u001b[39m \u001b[39mdict\u001b[39m(\u001b[39mzip\u001b[39m(\u001b[39mself\u001b[39m\u001b[39m.\u001b[39mspeed\u001b[39m.\u001b[39mkeys(), (x\u001b[39m.\u001b[39mt \u001b[39m/\u001b[39m \u001b[39mlen\u001b[39m(\u001b[39mself\u001b[39m\u001b[39m.\u001b[39mdataloader\u001b[39m.\u001b[39mdataset) \u001b[39m*\u001b[39m \u001b[39m1E3\u001b[39m \u001b[39mfor\u001b[39;00m x \u001b[39min\u001b[39;00m dt)))\n",
      "File \u001b[1;32mc:\\Users\\user\\anaconda3\\envs\\mlenv-310\\lib\\site-packages\\ultralytics\\yolo\\v8\\detect\\val.py:128\u001b[0m, in \u001b[0;36mDetectionValidator.get_stats\u001b[1;34m(self)\u001b[0m\n\u001b[0;32m    126\u001b[0m stats \u001b[39m=\u001b[39m [torch\u001b[39m.\u001b[39mcat(x, \u001b[39m0\u001b[39m)\u001b[39m.\u001b[39mcpu()\u001b[39m.\u001b[39mnumpy() \u001b[39mfor\u001b[39;00m x \u001b[39min\u001b[39;00m \u001b[39mzip\u001b[39m(\u001b[39m*\u001b[39m\u001b[39mself\u001b[39m\u001b[39m.\u001b[39mstats)]  \u001b[39m# to numpy\u001b[39;00m\n\u001b[0;32m    127\u001b[0m \u001b[39mif\u001b[39;00m \u001b[39mlen\u001b[39m(stats) \u001b[39mand\u001b[39;00m stats[\u001b[39m0\u001b[39m]\u001b[39m.\u001b[39many():\n\u001b[1;32m--> 128\u001b[0m     \u001b[39mself\u001b[39;49m\u001b[39m.\u001b[39;49mmetrics\u001b[39m.\u001b[39;49mprocess(\u001b[39m*\u001b[39;49mstats)\n\u001b[0;32m    129\u001b[0m \u001b[39mself\u001b[39m\u001b[39m.\u001b[39mnt_per_class \u001b[39m=\u001b[39m np\u001b[39m.\u001b[39mbincount(stats[\u001b[39m-\u001b[39m\u001b[39m1\u001b[39m]\u001b[39m.\u001b[39mastype(\u001b[39mint\u001b[39m), minlength\u001b[39m=\u001b[39m\u001b[39mself\u001b[39m\u001b[39m.\u001b[39mnc)  \u001b[39m# number of targets per class\u001b[39;00m\n\u001b[0;32m    130\u001b[0m \u001b[39mreturn\u001b[39;00m \u001b[39mself\u001b[39m\u001b[39m.\u001b[39mmetrics\u001b[39m.\u001b[39mresults_dict\n",
      "File \u001b[1;32mc:\\Users\\user\\anaconda3\\envs\\mlenv-310\\lib\\site-packages\\ultralytics\\yolo\\utils\\metrics.py:675\u001b[0m, in \u001b[0;36mDetMetrics.process\u001b[1;34m(self, tp, conf, pred_cls, target_cls)\u001b[0m\n\u001b[0;32m    673\u001b[0m \u001b[39mdef\u001b[39;00m \u001b[39mprocess\u001b[39m(\u001b[39mself\u001b[39m, tp, conf, pred_cls, target_cls):\n\u001b[0;32m    674\u001b[0m     \u001b[39m\"\"\"Process predicted results for object detection and update metrics.\"\"\"\u001b[39;00m\n\u001b[1;32m--> 675\u001b[0m     results \u001b[39m=\u001b[39m ap_per_class(tp,\n\u001b[0;32m    676\u001b[0m                            conf,\n\u001b[0;32m    677\u001b[0m                            pred_cls,\n\u001b[0;32m    678\u001b[0m                            target_cls,\n\u001b[0;32m    679\u001b[0m                            plot\u001b[39m=\u001b[39;49m\u001b[39mself\u001b[39;49m\u001b[39m.\u001b[39;49mplot,\n\u001b[0;32m    680\u001b[0m                            save_dir\u001b[39m=\u001b[39;49m\u001b[39mself\u001b[39;49m\u001b[39m.\u001b[39;49msave_dir,\n\u001b[0;32m    681\u001b[0m                            names\u001b[39m=\u001b[39;49m\u001b[39mself\u001b[39;49m\u001b[39m.\u001b[39;49mnames,\n\u001b[0;32m    682\u001b[0m                            on_plot\u001b[39m=\u001b[39;49m\u001b[39mself\u001b[39;49m\u001b[39m.\u001b[39;49mon_plot)[\u001b[39m2\u001b[39m:]\n\u001b[0;32m    683\u001b[0m     \u001b[39mself\u001b[39m\u001b[39m.\u001b[39mbox\u001b[39m.\u001b[39mnc \u001b[39m=\u001b[39m \u001b[39mlen\u001b[39m(\u001b[39mself\u001b[39m\u001b[39m.\u001b[39mnames)\n\u001b[0;32m    684\u001b[0m     \u001b[39mself\u001b[39m\u001b[39m.\u001b[39mbox\u001b[39m.\u001b[39mupdate(results)\n",
      "File \u001b[1;32mc:\\Users\\user\\anaconda3\\envs\\mlenv-310\\lib\\site-packages\\ultralytics\\yolo\\utils\\metrics.py:485\u001b[0m, in \u001b[0;36map_per_class\u001b[1;34m(tp, conf, pred_cls, target_cls, plot, on_plot, save_dir, names, eps, prefix)\u001b[0m\n\u001b[0;32m    483\u001b[0m \u001b[39m# Compute F1 (harmonic mean of precision and recall)\u001b[39;00m\n\u001b[0;32m    484\u001b[0m f1 \u001b[39m=\u001b[39m \u001b[39m2\u001b[39m \u001b[39m*\u001b[39m p \u001b[39m*\u001b[39m r \u001b[39m/\u001b[39m (p \u001b[39m+\u001b[39m r \u001b[39m+\u001b[39m eps)\n\u001b[1;32m--> 485\u001b[0m names \u001b[39m=\u001b[39m [v \u001b[39mfor\u001b[39;00m k, v \u001b[39min\u001b[39;00m names\u001b[39m.\u001b[39;49mitems() \u001b[39mif\u001b[39;00m k \u001b[39min\u001b[39;00m unique_classes]  \u001b[39m# list: only classes that have data\u001b[39;00m\n\u001b[0;32m    486\u001b[0m names \u001b[39m=\u001b[39m \u001b[39mdict\u001b[39m(\u001b[39menumerate\u001b[39m(names))  \u001b[39m# to dict\u001b[39;00m\n\u001b[0;32m    487\u001b[0m \u001b[39mif\u001b[39;00m plot:\n",
      "\u001b[1;31mAttributeError\u001b[0m: 'str' object has no attribute 'items'"
     ]
    }
   ],
   "source": [
    "from ultralytics import YOLO\n",
    "\n",
    "# Load a model\n",
    "model = YOLO('yolov8s.yaml')  # build a new model from YAML\n",
    "\n",
    "\n",
    "# Train the model\n",
    "model.train(data='config.yaml', epochs=1)\n"
   ]
  },
  {
   "cell_type": "code",
   "execution_count": null,
   "metadata": {},
   "outputs": [],
   "source": []
  }
 ],
 "metadata": {
  "kernelspec": {
   "display_name": "mlenv-310",
   "language": "python",
   "name": "python3"
  },
  "language_info": {
   "codemirror_mode": {
    "name": "ipython",
    "version": 3
   },
   "file_extension": ".py",
   "mimetype": "text/x-python",
   "name": "python",
   "nbconvert_exporter": "python",
   "pygments_lexer": "ipython3",
   "version": "3.10.11"
  },
  "orig_nbformat": 4
 },
 "nbformat": 4,
 "nbformat_minor": 2
}
