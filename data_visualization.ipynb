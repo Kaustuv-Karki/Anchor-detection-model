{
 "cells": [
  {
   "cell_type": "code",
   "execution_count": 2,
   "metadata": {},
   "outputs": [],
   "source": [
    "import numpy as np\n",
    "import matplotlib.pyplot as plt\n",
    "import os"
   ]
  },
  {
   "cell_type": "code",
   "execution_count": null,
   "metadata": {},
   "outputs": [],
   "source": [
    "face_seq = np.load('*.npy_file')"
   ]
  },
  {
   "cell_type": "code",
   "execution_count": null,
   "metadata": {},
   "outputs": [],
   "source": [
    "os.system('mkdir Sequences')\n",
    "os.system('mkdir output')"
   ]
  },
  {
   "cell_type": "code",
   "execution_count": null,
   "metadata": {},
   "outputs": [],
   "source": [
    "os.system('rm -r Sequences')\n",
    "for i in range(len(face_seq)):\n",
    "    fig=plt.figure()\n",
    "    ax = fig.add_subplot(projection='3d')\n",
    "\n",
    "    ax.scatter3D(face_seq[i][:,0], face_seq[i][:,1], face_seq[i][:,2],  c='black', marker='.', alpha=0.7)\n",
    "    ax.plot_trisurf(face_seq[i][:,0], face_seq[i][:,1], face_seq[i][:,2], cmap='viridis', alpha=0.5)\n",
    "    ax.set_axis_off()\n",
    "    ax.view_init(elev=-110, azim=130, roll=150)\n",
    "    plt.savefig('Sequences/img_'+str(i)+'.png')\n",
    "\n",
    "os.system('ffmpeg -r 25 -i Sequences/img_%01d.png -vcodec mpeg4 -y -vb 40M output/animation.mp4')"
   ]
  }
 ],
 "metadata": {
  "kernelspec": {
   "display_name": "Python 3",
   "language": "python",
   "name": "python3"
  },
  "language_info": {
   "codemirror_mode": {
    "name": "ipython",
    "version": 3
   },
   "file_extension": ".py",
   "mimetype": "text/x-python",
   "name": "python",
   "nbconvert_exporter": "python",
   "pygments_lexer": "ipython3",
   "version": "3.10.11"
  },
  "orig_nbformat": 4
 },
 "nbformat": 4,
 "nbformat_minor": 2
}
